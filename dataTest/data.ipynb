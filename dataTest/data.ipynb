{
 "cells": [
  {
   "cell_type": "code",
   "execution_count": 12,
   "metadata": {},
   "outputs": [],
   "source": [
    "import requests\n",
    "url=\"https://data.moenv.gov.tw/api/v2/aqx_p_488?api_key=e8dd42e6-9b8b-43f8-991e-b3dee723a52d&limit=1000&sort=datacreationdate%20desc&format=JSON\"\n",
    "respone=requests.get(url)\n",
    "\n",
    "data=respone.json()"
   ]
  },
  {
   "cell_type": "code",
   "execution_count": null,
   "metadata": {},
   "outputs": [],
   "source": [
    "hwdata=[]\n",
    "\n",
    "for items in data[\"records\"]:\n",
    "    \n",
    "    hwdata.append((items['sitename'],\n",
    "                        items['county'],\n",
    "                        items['aqi'],\n",
    "                        items['status'],\n",
    "                        items['pm2.5'],\n",
    "                        items['datacreationdate'],\n",
    "                        items['latitude'],\n",
    "                        items['longitude']))\n",
    "    \n",
    "print(hwdata)"
   ]
  },
  {
   "cell_type": "code",
   "execution_count": 14,
   "metadata": {},
   "outputs": [],
   "source": [
    "sql = '''\n",
    "CREATE TABLE IF NOT EXISTS records (\n",
    "\tid INTEGER NOT NULL PRIMARY KEY AUTOINCREMENT,\n",
    "\tsitename TEXT NOT NULL,\n",
    "\tcounty TEXT,\n",
    "\taqi INTEGER,\n",
    "\tstatus TEXT,\n",
    "\tpm25 NUMERIC,\n",
    "\tdate TEXT,\n",
    "\tlat NUMERIC,\n",
    "\tlon NUMERIC,\n",
    "    UNIQUE (sitename,date)\n",
    ");\n",
    "'''\n",
    "\n",
    "import sqlite3\n",
    "conn = sqlite3.connect(\"HWissue.db\")\n",
    "\n",
    "cursor = conn.cursor()\n",
    "cursor.execute(sql)\n",
    "conn.commit()\n",
    "cursor.close()\n",
    "conn.close()"
   ]
  },
  {
   "cell_type": "code",
   "execution_count": 15,
   "metadata": {},
   "outputs": [],
   "source": [
    "insertSQL = '''\n",
    "INSERT OR REPLACE INTO records(sitename,county,aqi,status,pm25,date,lat,lon)\n",
    "VALUES (?,?,?,?,?,?,?,?)\n",
    "'''\n",
    "conn = sqlite3.connect(\"HWissue.db\")\n",
    "\n",
    "cursor = conn.cursor()\n",
    "\n",
    "cursor.executemany(insertSQL,hwdata)\n",
    "conn.commit()\n",
    "cursor.close()\n",
    "conn.close()\n"
   ]
  }
 ],
 "metadata": {
  "kernelspec": {
   "display_name": "tvdi",
   "language": "python",
   "name": "python3"
  },
  "language_info": {
   "codemirror_mode": {
    "name": "ipython",
    "version": 3
   },
   "file_extension": ".py",
   "mimetype": "text/x-python",
   "name": "python",
   "nbconvert_exporter": "python",
   "pygments_lexer": "ipython3",
   "version": "3.11.10"
  }
 },
 "nbformat": 4,
 "nbformat_minor": 2
}
