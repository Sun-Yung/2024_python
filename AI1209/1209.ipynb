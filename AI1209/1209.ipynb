{
 "cells": [
  {
   "cell_type": "code",
   "execution_count": 2,
   "metadata": {},
   "outputs": [
    {
     "name": "stdout",
     "output_type": "stream",
     "text": [
      "轉換完成，結果已儲存至 C:\\Users\\user\\Documents\\data\\Gogoro_換電站_地址結果.csv\n"
     ]
    }
   ],
   "source": [
    "import pandas as pd\n",
    "import googlemaps\n",
    "from dotenv import load_dotenv\n",
    "import os\n",
    "load_dotenv()\n",
    "# 你的 Google Maps API 金鑰\n",
    "API_KEY = os.environ[\"api_google\"]\n",
    "gmaps = googlemaps.Client(key=API_KEY)\n",
    "\n",
    "# 載入你的資料\n",
    "file_path = \"Gogoro_換電站站點清單.csv\"  # 修改為你的檔案路徑\n",
    "gogoro_data = pd.read_csv(file_path)\n",
    "\n",
    "# 定義函式：利用經緯度獲取地址\n",
    "def get_address(lat, lon):\n",
    "    try:\n",
    "        result = gmaps.reverse_geocode((lat, lon), language=\"zh-TW\")\n",
    "        if result:\n",
    "            return result[0][\"formatted_address\"]\n",
    "        else:\n",
    "            return \"地址無法取得\"\n",
    "    except Exception as e:\n",
    "        return f\"錯誤: {e}\"\n",
    "\n",
    "# 新增地址欄位\n",
    "gogoro_data[\"地址\"] = gogoro_data.apply(lambda row: get_address(row[\"緯度\"], row[\"經度\"]), axis=1)\n",
    "\n",
    "# 將結果存檔\n",
    "output_path = r\"C:\\Users\\user\\Documents\\data\\Gogoro_換電站_地址結果.csv\"  # 修改為你的輸出檔案路徑\n",
    "gogoro_data.to_csv(output_path, index=False, encoding=\"utf-8-sig\")\n",
    "\n",
    "print(f\"轉換完成，結果已儲存至 {output_path}\")\n"
   ]
  }
 ],
 "metadata": {
  "kernelspec": {
   "display_name": "tvdi",
   "language": "python",
   "name": "python3"
  },
  "language_info": {
   "codemirror_mode": {
    "name": "ipython",
    "version": 3
   },
   "file_extension": ".py",
   "mimetype": "text/x-python",
   "name": "python",
   "nbconvert_exporter": "python",
   "pygments_lexer": "ipython3",
   "version": "3.11.10"
  }
 },
 "nbformat": 4,
 "nbformat_minor": 2
}
