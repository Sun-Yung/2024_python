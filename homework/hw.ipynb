{
 "cells": [
  {
   "cell_type": "markdown",
   "metadata": {},
   "source": [
    "- 使用 Python 內建的 csv 模組讀取文件\n"
   ]
  },
  {
   "cell_type": "code",
   "execution_count": 95,
   "metadata": {},
   "outputs": [
    {
     "name": "stdout",
     "output_type": "stream",
     "text": [
      "{'name': 'John', 'age': '23', 'city': 'New York'}\n",
      "{'name': 'Jane', 'age': '29', 'city': 'Los Angeles'}\n",
      "{'name': 'Doe', 'age': '25', 'city': 'Chicago'}\n",
      "{'name': 'Anna', 'age': '22', 'city': 'Houston'}\n"
     ]
    }
   ],
   "source": [
    "import csv\n",
    "age_list=[]\n",
    "age_list2=[]\n",
    "with open(\"student.csv\",encoding=\"utf-8\") as file:\n",
    "    csvREADER=csv.DictReader(file)\n",
    "    for row in csvREADER:\n",
    "        age_list.append(dict(row))\n",
    "    for i in age_list:\n",
    "        print(i)\n",
    "        "
   ]
  },
  {
   "cell_type": "markdown",
   "metadata": {},
   "source": [
    "- 篩選內容:年齡大於25的人"
   ]
  },
  {
   "cell_type": "code",
   "execution_count": 96,
   "metadata": {},
   "outputs": [
    {
     "name": "stdout",
     "output_type": "stream",
     "text": [
      "{'name': 'Jane', 'age': '29', 'city': 'Los Angeles'}\n"
     ]
    }
   ],
   "source": [
    "for i in age_list:\n",
    "    if int(i[\"age\"])>25:\n",
    "        age_list2.append(i)\n",
    "for item in age_list2:\n",
    "    print(item)\n",
    "        "
   ]
  },
  {
   "cell_type": "markdown",
   "metadata": {},
   "source": [
    "- 輸出篩選後的結果儲存至新 CSV 文件(filtered_data.csv)"
   ]
  },
  {
   "cell_type": "code",
   "execution_count": 97,
   "metadata": {},
   "outputs": [
    {
     "name": "stdout",
     "output_type": "stream",
     "text": [
      "篩選後的結果已儲存至 'filtered_data.csv'\n"
     ]
    }
   ],
   "source": [
    "with open('filtered_data.csv', 'w', newline='', encoding='utf-8') as file:\n",
    "    top = ['name', 'age', 'city']\n",
    "    writer = csv.DictWriter(file, fieldnames=top)\n",
    "    \n",
    "    writer.writeheader() \n",
    "    writer.writerows(age_list2)\n",
    "\n",
    "print(\"篩選後的結果已儲存至 'filtered_data.csv'\")\n"
   ]
  }
 ],
 "metadata": {
  "kernelspec": {
   "display_name": "tvdi",
   "language": "python",
   "name": "python3"
  },
  "language_info": {
   "codemirror_mode": {
    "name": "ipython",
    "version": 3
   },
   "file_extension": ".py",
   "mimetype": "text/x-python",
   "name": "python",
   "nbconvert_exporter": "python",
   "pygments_lexer": "ipython3",
   "version": "3.11.10"
  }
 },
 "nbformat": 4,
 "nbformat_minor": 2
}
