{
 "cells": [
  {
   "cell_type": "code",
   "execution_count": 1,
   "metadata": {},
   "outputs": [
    {
     "name": "stdout",
     "output_type": "stream",
     "text": [
      "<class 'csv.DictReader'>\n",
      "{'name': 'John', 'age': '23', 'city': 'New York'}\n",
      "{'name': 'Jane', 'age': '29', 'city': 'Los Angeles'}\n",
      "{'name': 'Doe', 'age': '25', 'city': 'Chicago'}\n",
      "{'name': 'Anna', 'age': '22', 'city': 'Houston'}\n"
     ]
    }
   ],
   "source": [
    "import csv\n",
    "\n",
    "with open(\"student.csv\",encoding=\"utf-8\") as file:\n",
    "    csvREADER=csv.reader(file)\n",
    "    csvREADER=csv.DictReader(file)\n",
    "    print(type(csvREADER))\n",
    "    for row in csvREADER:\n",
    "        print(row)"
   ]
  },
  {
   "cell_type": "code",
   "execution_count": 2,
   "metadata": {},
   "outputs": [],
   "source": [
    "age_list = {}\n",
    "age=0\n",
    "for age in age_list:\n",
    "    if age>25 in age:\n",
    "        age_list.append(age)\n",
    "        "
   ]
  }
 ],
 "metadata": {
  "kernelspec": {
   "display_name": "tvdi",
   "language": "python",
   "name": "python3"
  },
  "language_info": {
   "codemirror_mode": {
    "name": "ipython",
    "version": 3
   },
   "file_extension": ".py",
   "mimetype": "text/x-python",
   "name": "python",
   "nbconvert_exporter": "python",
   "pygments_lexer": "ipython3",
   "version": "3.11.10"
  }
 },
 "nbformat": 4,
 "nbformat_minor": 2
}
