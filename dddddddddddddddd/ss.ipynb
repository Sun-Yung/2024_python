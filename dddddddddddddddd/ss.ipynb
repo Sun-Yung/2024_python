{
 "cells": [
  {
   "cell_type": "code",
   "execution_count": null,
   "metadata": {},
   "outputs": [],
   "source": [
    "import pandas as pd\n",
    "from geopy.geocoders import Nominatim\n",
    "import time\n",
    "\n",
    "# 創建 Geolocator 物件\n",
    "geolocator = Nominatim(user_agent=\"geoapiExercises\")\n",
    "\n",
    "# 假設 CSV 檔案中有 'address' 這一列\n",
    "df = pd.read_csv('addresses.csv')\n",
    "\n",
    "# 用來儲存結果的空列表\n",
    "geocoded_data = []\n",
    "\n",
    "# 對每個地址進行地理編碼\n",
    "for address in df['address']:\n",
    "    try:\n",
    "        location = geolocator.geocode(address)\n",
    "        if location:\n",
    "            geocoded_data.append({\n",
    "                \"address\": address,\n",
    "                \"latitude\": location.latitude,\n",
    "                \"longitude\": location.longitude\n",
    "            })\n",
    "        else:\n",
    "            geocoded_data.append({\n",
    "                \"address\": address,\n",
    "                \"latitude\": None,\n",
    "                \"longitude\": None\n",
    "            })\n",
    "    except Exception as e:\n",
    "        geocoded_data.append({\n",
    "            \"address\": address,\n",
    "            \"latitude\": None,\n",
    "            \"longitude\": None\n",
    "        })\n",
    "        print(f\"Error geocoding {address}: {e}\")\n",
    "    \n",
    "    # 防止請求過於頻繁，加入延遲\n",
    "    time.sleep(1)\n",
    "\n",
    "# 將結果轉換為 DataFrame\n",
    "geocoded_df = pd.DataFrame(geocoded_data)\n",
    "\n",
    "# 儲存為 CSV 檔案\n",
    "geocoded_df.to_csv('geocoded_addresses.csv', index=False)\n",
    "\n",
    "# 顯示結果\n",
    "print(geocoded_df)\n"
   ]
  }
 ],
 "metadata": {
  "kernelspec": {
   "display_name": "tvdi",
   "language": "python",
   "name": "python3"
  },
  "language_info": {
   "name": "python",
   "version": "3.11.10"
  }
 },
 "nbformat": 4,
 "nbformat_minor": 2
}
