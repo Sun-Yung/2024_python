{
 "cells": [
  {
   "cell_type": "code",
   "execution_count": 1,
   "metadata": {},
   "outputs": [
    {
     "name": "stdout",
     "output_type": "stream",
     "text": [
      "數據已保存為 'Latest_Data_For_Modeling.csv'\n"
     ]
    }
   ],
   "source": [
    "import pandas as pd\n",
    "\n",
    "# 提供的數據\n",
    "data_dict = {\n",
    "    '行政區': [\n",
    "        '中山區', '中正區', '信義區', '內湖區', '北投區', '南港區', \n",
    "        '士林區', '大同區', '大安區', '文山區', '松山區', '萬華區'\n",
    "    ],\n",
    "    '電動機車數量': [10667, 7538, 6271, 9628, 7406, 3875, 7967, 4367, 6834, 7531, 11564, 5372],\n",
    "    '充電站數量': [15, 9, 13, 17, 13, 9, 18, 9, 15, 10, 15, 10],\n",
    "    '每站服務車輛數': [\n",
    "        711.13, 837.56, 482.38, 566.35, 569.69, 430.56, 442.61, \n",
    "        485.22, 455.6, 753.1, 770.93, 537.2\n",
    "    ],\n",
    "    '未來車輛數量': [\n",
    "        11733.7, 8291.8, 6898.1, 10590.8, 8146.6, 4262.5, 8763.7, \n",
    "        4803.7, 7517.4, 8284.1, 12720.4, 5909.2\n",
    "    ],\n",
    "    '未來每站服務車輛數': [\n",
    "        782.25, 921.31, 530.62, 622.99, 626.66, 473.61, 486.87, \n",
    "        533.74, 501.16, 828.41, 848.03, 590.92\n",
    "    ],\n",
    "    '人口密度': [\n",
    "        15767, 19581, 18338, 8694, 4249, 5178, 4250, 21025, \n",
    "        25557, 8227, 20720, 19468\n",
    "    ]\n",
    "}\n",
    "\n",
    "# 保存為 CSV 文件\n",
    "latest_data = pd.DataFrame(data_dict)\n",
    "latest_data.to_csv('Latest_Data_For_Modeling.csv', index=False)\n",
    "print(\"數據已保存為 'Latest_Data_For_Modeling.csv'\")\n"
   ]
  }
 ],
 "metadata": {
  "kernelspec": {
   "display_name": "tvdi",
   "language": "python",
   "name": "python3"
  },
  "language_info": {
   "codemirror_mode": {
    "name": "ipython",
    "version": 3
   },
   "file_extension": ".py",
   "mimetype": "text/x-python",
   "name": "python",
   "nbconvert_exporter": "python",
   "pygments_lexer": "ipython3",
   "version": "3.11.10"
  }
 },
 "nbformat": 4,
 "nbformat_minor": 2
}
