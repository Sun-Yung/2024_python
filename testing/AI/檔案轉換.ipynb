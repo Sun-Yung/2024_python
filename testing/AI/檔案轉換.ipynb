{
 "cells": [
  {
   "cell_type": "code",
   "execution_count": 19,
   "metadata": {},
   "outputs": [
    {
     "name": "stdout",
     "output_type": "stream",
     "text": [
      "嘗試編碼 utf-8 失敗：'utf-8' codec can't decode byte 0xab in position 0: invalid start byte\n",
      "成功讀取，編碼為：big5\n"
     ]
    }
   ],
   "source": [
    "import pandas as pd\n",
    "\n",
    "file_path = r'C:\\Users\\ASUS\\Desktop\\GItHub\\TVDI_python\\testing\\AI\\proj_proj\\合併數據_v4.csv'\n",
    "\n",
    "# 測試常見編碼\n",
    "encodings = ['utf-8', 'big5']\n",
    "for encoding in encodings:\n",
    "    try:\n",
    "        df = pd.read_csv(file_path, encoding=encoding)\n",
    "        print(f\"成功讀取，編碼為：{encoding}\")\n",
    "        break\n",
    "    except Exception as e:\n",
    "        print(f\"嘗試編碼 {encoding} 失敗：{e}\")\n"
   ]
  },
  {
   "cell_type": "code",
   "execution_count": 20,
   "metadata": {},
   "outputs": [
    {
     "name": "stdout",
     "output_type": "stream",
     "text": [
      "CSV 文件已轉換為 UTF-8，保存為 C:\\Users\\ASUS\\Desktop\\GItHub\\TVDI_python\\testing\\AI\\proj_proj\\合併數據utf8.csv\n"
     ]
    }
   ],
   "source": [
    "import pandas as pd\n",
    "\n",
    "# 定義文件路徑\n",
    "input_file = r'C:\\Users\\ASUS\\Desktop\\GItHub\\TVDI_python\\testing\\AI\\proj_proj\\合併數據_v4.csv'  # 原始 Big5 編碼文件\n",
    "output_file = r'C:\\Users\\ASUS\\Desktop\\GItHub\\TVDI_python\\testing\\AI\\proj_proj\\合併數據utf8.csv'  # 轉換後的 UTF-8 文件\n",
    "\n",
    "# 使用 Pandas 讀取並重新保存\n",
    "df = pd.read_csv(input_file, encoding='big5')  # 讀取 Big5 編碼的文件\n",
    "df.to_csv(output_file, index=False, encoding='utf-8-sig')  # 保存為 UTF-8   \n",
    "\n",
    "print(f\"CSV 文件已轉換為 UTF-8，保存為 {output_file}\")\n"
   ]
  }
 ],
 "metadata": {
  "kernelspec": {
   "display_name": "venv",
   "language": "python",
   "name": "python3"
  },
  "language_info": {
   "codemirror_mode": {
    "name": "ipython",
    "version": 3
   },
   "file_extension": ".py",
   "mimetype": "text/x-python",
   "name": "python",
   "nbconvert_exporter": "python",
   "pygments_lexer": "ipython3",
   "version": "3.11.10"
  }
 },
 "nbformat": 4,
 "nbformat_minor": 2
}
